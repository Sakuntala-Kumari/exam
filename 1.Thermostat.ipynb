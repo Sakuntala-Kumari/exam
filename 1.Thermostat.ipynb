{
 "cells": [
  {
   "cell_type": "code",
   "execution_count": 1,
   "metadata": {},
   "outputs": [
    {
     "name": "stdout",
     "output_type": "stream",
     "text": [
      "Desired temperature =  23\n"
     ]
    }
   ],
   "source": [
    "def smartThermostat(preference, location, time, current_temperature):\n",
    "    if preference == \"warm\" and location == \"home\" and time == \"morning\":\n",
    "        return current_temperature+4\n",
    "    \n",
    "    elif preference == \"warm\" and location == \"home\" and time == \"afternoon\":\n",
    "        return current_temperature+3\n",
    "    \n",
    "    elif preference == \"warm\" and location == \"home\" and time == \"evening\":\n",
    "        return current_temperature+2\n",
    "    \n",
    "    elif preference == \"warm\" and location == \"outside\" and time == \"morning\":\n",
    "        return current_temperature+4\n",
    "    \n",
    "    elif preference == \"warm\" and location == \"outside\" and time == \"afternoon\":\n",
    "        return current_temperature+3\n",
    "    \n",
    "    elif preference == \"warm\" and location == \"outside\" and time == \"evening\":\n",
    "        return current_temperature+2\n",
    "    \n",
    "    elif preference == \"cold\" and location == \"home\" and time == \"morning\":\n",
    "        return current_temperature-1\n",
    "    \n",
    "    elif preference == \"cold\" and location == \"home\" and time == \"afternoon\":\n",
    "        return current_temperature-3\n",
    "    \n",
    "    elif preference == \"cold\" and location == \"home\" and time == \"evening\":\n",
    "        return current_temperature-2\n",
    "    \n",
    "    elif preference == \"cold\" and location == \"outside\" and time == \"morning\":\n",
    "        return current_temperature-1\n",
    "    \n",
    "    elif preference == \"cold\" and location == \"outside\" and time == \"afternoon\":\n",
    "        return current_temperature-3\n",
    "    \n",
    "    elif preference == \"cold\" and location == \"outside\" and time == \"evening\":\n",
    "        return current_temperature-1\n",
    "    \n",
    "    else:\n",
    "        return 22\n",
    "\n",
    "preference = input(\"Enter your preference(warm/cold):- \")\n",
    "location = input(\"Enter your location(home/outside):- \")\n",
    "time = input(\"Enter the time of day(morning/afternoon/evening):-\")\n",
    "current_temperature = 20\n",
    "\n",
    "temperature = smartThermostat(preference, location, time, current_temperature)\n",
    "\n",
    "print(\"Desired temperature = \", temperature)\n",
    "        "
   ]
  }
 ],
 "metadata": {
  "kernelspec": {
   "display_name": "Python 3",
   "language": "python",
   "name": "python3"
  },
  "language_info": {
   "codemirror_mode": {
    "name": "ipython",
    "version": 3
   },
   "file_extension": ".py",
   "mimetype": "text/x-python",
   "name": "python",
   "nbconvert_exporter": "python",
   "pygments_lexer": "ipython3",
   "version": "3.12.1"
  }
 },
 "nbformat": 4,
 "nbformat_minor": 2
}
