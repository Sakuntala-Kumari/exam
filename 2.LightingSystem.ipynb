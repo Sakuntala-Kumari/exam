{
 "cells": [
  {
   "cell_type": "code",
   "execution_count": 1,
   "metadata": {},
   "outputs": [
    {
     "name": "stdout",
     "output_type": "stream",
     "text": [
      "Current Time :-  19:38:57\n",
      "Turning on the light\n"
     ]
    }
   ],
   "source": [
    "from datetime import datetime\n",
    "import time\n",
    "\n",
    "def onn():\n",
    "    print(\"Turning on the light\")\n",
    "\n",
    "def off():\n",
    "    print(\"Turning off the light\")\n",
    "\n",
    "person_present = int(input(\"Enter number of people in the room: \"))\n",
    "now = datetime.now()\n",
    "current_time = now.strftime(\"%H:%M:%S\")\n",
    "print(\"Current Time :- \", current_time)\n",
    "\n",
    "if person_present and \"06:00:00\" <= current_time <= \"22:00:00\":\n",
    "    onn()\n",
    "else:\n",
    "    off()"
   ]
  }
 ],
 "metadata": {
  "kernelspec": {
   "display_name": "Python 3",
   "language": "python",
   "name": "python3"
  },
  "language_info": {
   "codemirror_mode": {
    "name": "ipython",
    "version": 3
   },
   "file_extension": ".py",
   "mimetype": "text/x-python",
   "name": "python",
   "nbconvert_exporter": "python",
   "pygments_lexer": "ipython3",
   "version": "3.12.1"
  }
 },
 "nbformat": 4,
 "nbformat_minor": 2
}
