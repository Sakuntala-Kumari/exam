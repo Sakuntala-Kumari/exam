{
  "nbformat": 4,
  "nbformat_minor": 0,
  "metadata": {
    "colab": {
      "provenance": []
    },
    "kernelspec": {
      "name": "python3",
      "display_name": "Python 3"
    },
    "language_info": {
      "name": "python"
    }
  },
  "cells": [
    {
      "cell_type": "code",
      "source": [
        "import numpy as np\n",
        "from tensorflow.keras.datasets import mnist"
      ],
      "metadata": {
        "id": "37fUwWhbgx87"
      },
      "execution_count": null,
      "outputs": []
    },
    {
      "cell_type": "code",
      "source": [
        "# Define activation functions\n",
        "def sigmoid(x):\n",
        "    return 1 / (1 + np.exp(-x))\n",
        "\n",
        "# The sigmoid() function takes an input x and returns the output after applying the sigmoid activation function to each element of x.\n",
        "\n",
        "def softmax(x):\n",
        "    exp_x = np.exp(x - np.max(x, axis=1, keepdims=True))\n",
        "    return exp_x / np.sum(exp_x, axis=1, keepdims=True)\n",
        "\n",
        "# We define a function called softmax() that takes an input array x.\n",
        "# Inside the function, we first compute the exponential of each element of x after subtracting the maximum value of x. This step is for numerical stability to prevent overflow.\n",
        "# We then divide each element of the exponentiated array by the sum of all exponentiated elements along the specified axis (axis=1) to get the softmax probabilities.\n",
        "# The keepdims=True argument ensures that the dimensions of the output match the input array's dimensions."
      ],
      "metadata": {
        "id": "XBDus80ygzlS"
      },
      "execution_count": null,
      "outputs": []
    },
    {
      "cell_type": "code",
      "source": [
        "# Load the MNIST dataset\n",
        "(x_train, y_train), (x_test, y_test) = mnist.load_data()\n",
        "\n",
        "# Explanation\n",
        "# mnist is a module within TensorFlow Keras datasets that provides access to the MNIST dataset.\n",
        "# load_data() is a function provided by the mnist module. When called, it loads the MNIST dataset from the internet (if it's not already downloaded) and returns two tuples: one for training data and labels (x_train, y_train), and the other for testing data and labels (x_test, y_test).\n",
        "# x_train contains the training images, represented as numpy arrays.\n",
        "# y_train contains the corresponding labels (targets) for the training images.\n",
        "# x_test contains the test images.\n",
        "# y_test contains the corresponding labels (targets) for the test images."
      ],
      "metadata": {
        "id": "fpxPaQech6Lv"
      },
      "execution_count": null,
      "outputs": []
    },
    {
      "cell_type": "code",
      "source": [
        "print(\"Training image shape:\", x_train.shape)\n",
        "print(\"Test image shape:\", x_test.shape)"
      ],
      "metadata": {
        "colab": {
          "base_uri": "https://localhost:8080/"
        },
        "id": "Ym373zHcjfds",
        "outputId": "28e48ad3-5311-4aba-a3ea-bf1d0355ba6c"
      },
      "execution_count": 16,
      "outputs": [
        {
          "output_type": "stream",
          "name": "stdout",
          "text": [
            "Training image shape: (60000, 28, 28)\n",
            "Test image shape: (10000, 28, 28)\n"
          ]
        }
      ]
    },
    {
      "cell_type": "code",
      "source": [
        "import numpy as np\n",
        "import matplotlib.pyplot as plt\n",
        "from tensorflow.keras.datasets import mnist\n",
        "\n",
        "# Plot a sample of images\n",
        "plt.figure(figsize=(10, 10))\n",
        "for i in range(4):\n",
        "    plt.subplot(2, 2, i+1)\n",
        "    plt.imshow(x_train[i], cmap='gray')\n",
        "    plt.title(f'Label: {y_train[i]}')\n",
        "    plt.axis('off')\n",
        "plt.show()\n",
        "\n",
        "# Explanation\n",
        "# plt.figure(figsize=(10, 10)): This line creates a new figure with a size of 10x10 inches.\n",
        "# for i in range(4):: This loop iterates over the first 4 images in the MNIST training dataset.\n",
        "# plt.subplot(2, 2, i+1): This line specifies that we are creating a 2x2 grid of subplots, and we're currently working on the (i+1)th subplot.\n",
        "# plt.imshow(x_train[i], cmap='gray'): This line displays the ith image from the MNIST dataset using the imshow function of matplotlib. We specify the colormap as 'gray' to display the image in grayscale.\n",
        "# plt.title(f'Label: {y_train[i]}'): This line adds a title to the subplot, indicating the label of the corresponding image.\n",
        "# plt.axis('off'): This line removes the axes (ticks and labels) from the subplot, making the image cleaner.\n",
        "# plt.show(): This line displays the figure containing the subplots, effectively showing the sample of images."
      ],
      "metadata": {
        "colab": {
          "base_uri": "https://localhost:8080/",
          "height": 829
        },
        "id": "V2tj3HGuiD-Q",
        "outputId": "f6a3b3f0-124c-4808-fd60-b0731a63d084"
      },
      "execution_count": 12,
      "outputs": [
        {
          "output_type": "display_data",
          "data": {
            "text/plain": [
              "<Figure size 1000x1000 with 4 Axes>"
            ],
            "image/png": "[encoded data removed]"
          },
          "metadata": {}
        }
      ]
    },
    {
      "cell_type": "code",
      "source": [
        "# Normalize the pixel values to the range [0, 1]\n",
        "x_train = x_train.astype('float32') / 255.0\n",
        "x_test = x_test.astype('float32') / 255.0\n",
        "\n",
        "# # Explanation\n",
        "# x_train = x_train.astype('float32') / 255.0: This line first converts the pixel values of the training images (x_train) to floating-point numbers by using the astype('float32') method. Then, it divides each pixel value by 255.0 to scale them down to the range [0, 1]. By dividing by 255.0, which is the maximum pixel value, we ensure that the pixel values are normalized to the range [0, 1].\n",
        "# x_test = x_test.astype('float32') / 255.0: Similarly, this line performs the same normalization process on the test images (x_test), ensuring consistency between the training and test data."
      ],
      "metadata": {
        "id": "r1aZVXRMh9Tr"
      },
      "execution_count": 13,
      "outputs": []
    },
    {
      "cell_type": "code",
      "source": [
        "# Flatten the input images\n",
        "x_train_flat = x_train.reshape((x_train.shape[0], -1))\n",
        "x_test_flat = x_test.reshape((x_test.shape[0], -1))\n",
        "\n",
        "# # Explanation\n",
        "# x_train.reshape((x_train.shape[0], -1)): This line reshapes the training images (x_train) into a two-dimensional array, where the first dimension represents the number of images in the dataset (equal to x_train.shape[0]), and the second dimension is inferred using -1 to accommodate the remaining dimensions. By using -1, NumPy automatically calculates the size of the second dimension such that the total number of elements remains the same. This effectively flattens each image into a one-dimensional array, where each element corresponds to a pixel value.\n",
        "# x_test.reshape((x_test.shape[0], -1)): Similarly, this line reshapes the test images (x_test) into a two-dimensional array with the same number of elements per image as the training set, effectively flattening each image in the test set."
      ],
      "metadata": {
        "id": "KB01hlP-iyKS"
      },
      "execution_count": 14,
      "outputs": []
    },
    {
      "cell_type": "code",
      "source": [
        "# Convert labels to one-hot encoding\n",
        "num_classes = 10\n",
        "y_train_onehot = np.eye(num_classes)[y_train]\n",
        "\n",
        "# Explanation\n",
        "# num_classes = 10: This line defines the number of classes in the dataset. In the case of the MNIST dataset, there are 10 classes corresponding to the digits 0 through 9.\n",
        "# np.eye(num_classes): This line creates an identity matrix of size num_classes x num_classes. Each row of this matrix represents a unique class, and each column corresponds to one of the classes."
      ],
      "metadata": {
        "id": "LkSWJq-7jIk5"
      },
      "execution_count": null,
      "outputs": []
    },
    {
      "cell_type": "code",
      "source": [
        "# Hyperparameters\n",
        "learning_rate = 0.1\n",
        "num_epochs = 100\n",
        "batch_size = 128\n",
        "input_size = 784\n",
        "hidden_size = 128\n",
        "\n",
        "# Explanation\n",
        "# learning_rate = 0.1: This is the learning rate parameter, which controls the step size during gradient descent optimization. It determines how much the model parameters are updated in each iteration of training. A higher learning rate may lead to faster convergence, but it can also cause instability and overshooting. Conversely, a lower learning rate may result in slower convergence but potentially more stable training.\n",
        "# num_epochs = 100: This is the number of epochs, which represents the number of times the entire training dataset is passed forward and backward through the neural network during the training process. One epoch consists of one forward pass (computing predictions), followed by one backward pass (computing gradients and updating parameters). Training for more epochs allows the model to learn from the data more thoroughly, but it may also increase the risk of overfitting if the model starts memorizing the training data.\n",
        "# batch_size = 128: This is the batch size parameter, which specifies the number of samples processed in one iteration. In each iteration, the model computes predictions and gradients for a batch of training samples. Using mini-batches rather than processing the entire dataset at once can lead to more efficient training, as it allows for parallel computation and reduces memory requirements. The choice of batch size can affect the convergence speed and generalization performance of the model.\n",
        "# input_size = 784: This is the input size parameter, which represents the number of features (or dimensions) in each input sample. In this case, the input size corresponds to the number of pixels in the flattened input images (28x28 = 784) in the MNIST dataset.\n",
        "# hidden_size = 128: This is the number of neurons in the hidden layer of the neural network. The hidden layer is an intermediate layer between the input and output layers, where the actual computations take place. The choice of hidden size can affect the model's capacity to learn complex patterns from the data. A larger hidden size allows the model to capture more complex relationships in the data but may also increase the risk of overfitting if not regularized properly."
      ],
      "metadata": {
        "id": "nwCwmFwfjtWt"
      },
      "execution_count": 29,
      "outputs": []
    },
    {
      "cell_type": "code",
      "execution_count": 30,
      "metadata": {
        "colab": {
          "base_uri": "https://localhost:8080/"
        },
        "id": "cAOX2LQsdqeu",
        "outputId": "9bff6f14-c67e-4f1a-90a3-9564e622ae88"
      },
      "outputs": [
        {
          "output_type": "stream",
          "name": "stdout",
          "text": [
            "Epoch 1/100, Training Accuracy: 0.9173\n",
            "Epoch 2/100, Training Accuracy: 0.9386\n",
            "Epoch 3/100, Training Accuracy: 0.9468\n",
            "Epoch 4/100, Training Accuracy: 0.9560\n",
            "Epoch 5/100, Training Accuracy: 0.9581\n",
            "Epoch 6/100, Training Accuracy: 0.9603\n",
            "Epoch 7/100, Training Accuracy: 0.9673\n",
            "Epoch 8/100, Training Accuracy: 0.9668\n",
            "Epoch 9/100, Training Accuracy: 0.9685\n",
            "Epoch 10/100, Training Accuracy: 0.9718\n",
            "Epoch 11/100, Training Accuracy: 0.9753\n",
            "Epoch 12/100, Training Accuracy: 0.9735\n",
            "Epoch 13/100, Training Accuracy: 0.9724\n",
            "Epoch 14/100, Training Accuracy: 0.9761\n",
            "Epoch 15/100, Training Accuracy: 0.9800\n",
            "Epoch 16/100, Training Accuracy: 0.9786\n",
            "Epoch 17/100, Training Accuracy: 0.9779\n",
            "Epoch 18/100, Training Accuracy: 0.9817\n",
            "Epoch 19/100, Training Accuracy: 0.9839\n",
            "Epoch 20/100, Training Accuracy: 0.9820\n",
            "Epoch 21/100, Training Accuracy: 0.9806\n",
            "Epoch 22/100, Training Accuracy: 0.9850\n",
            "Epoch 23/100, Training Accuracy: 0.9841\n",
            "Epoch 24/100, Training Accuracy: 0.9872\n",
            "Epoch 25/100, Training Accuracy: 0.9856\n",
            "Epoch 26/100, Training Accuracy: 0.9882\n",
            "Epoch 27/100, Training Accuracy: 0.9869\n",
            "Epoch 28/100, Training Accuracy: 0.9884\n",
            "Epoch 29/100, Training Accuracy: 0.9891\n",
            "Epoch 30/100, Training Accuracy: 0.9905\n",
            "Epoch 31/100, Training Accuracy: 0.9919\n",
            "Epoch 32/100, Training Accuracy: 0.9918\n",
            "Epoch 33/100, Training Accuracy: 0.9868\n",
            "Epoch 34/100, Training Accuracy: 0.9914\n",
            "Epoch 35/100, Training Accuracy: 0.9932\n",
            "Epoch 36/100, Training Accuracy: 0.9899\n",
            "Epoch 37/100, Training Accuracy: 0.9919\n",
            "Epoch 38/100, Training Accuracy: 0.9922\n",
            "Epoch 39/100, Training Accuracy: 0.9949\n",
            "Epoch 40/100, Training Accuracy: 0.9940\n",
            "Epoch 41/100, Training Accuracy: 0.9945\n",
            "Epoch 42/100, Training Accuracy: 0.9937\n",
            "Epoch 43/100, Training Accuracy: 0.9950\n",
            "Epoch 44/100, Training Accuracy: 0.9926\n",
            "Epoch 45/100, Training Accuracy: 0.9951\n",
            "Epoch 46/100, Training Accuracy: 0.9946\n",
            "Epoch 47/100, Training Accuracy: 0.9962\n",
            "Epoch 48/100, Training Accuracy: 0.9967\n",
            "Epoch 49/100, Training Accuracy: 0.9968\n",
            "Epoch 50/100, Training Accuracy: 0.9979\n",
            "Epoch 51/100, Training Accuracy: 0.9974\n",
            "Epoch 52/100, Training Accuracy: 0.9974\n",
            "Epoch 53/100, Training Accuracy: 0.9977\n",
            "Epoch 54/100, Training Accuracy: 0.9980\n",
            "Epoch 55/100, Training Accuracy: 0.9983\n",
            "Epoch 56/100, Training Accuracy: 0.9971\n",
            "Epoch 57/100, Training Accuracy: 0.9984\n",
            "Epoch 58/100, Training Accuracy: 0.9985\n",
            "Epoch 59/100, Training Accuracy: 0.9960\n",
            "Epoch 60/100, Training Accuracy: 0.9983\n",
            "Epoch 61/100, Training Accuracy: 0.9986\n",
            "Epoch 62/100, Training Accuracy: 0.9986\n",
            "Epoch 63/100, Training Accuracy: 0.9985\n",
            "Epoch 64/100, Training Accuracy: 0.9976\n",
            "Epoch 65/100, Training Accuracy: 0.9985\n",
            "Epoch 66/100, Training Accuracy: 0.9988\n",
            "Epoch 67/100, Training Accuracy: 0.9989\n",
            "Epoch 68/100, Training Accuracy: 0.9989\n",
            "Epoch 69/100, Training Accuracy: 0.9988\n",
            "Epoch 70/100, Training Accuracy: 0.9990\n",
            "Epoch 71/100, Training Accuracy: 0.9990\n",
            "Epoch 72/100, Training Accuracy: 0.9989\n",
            "Epoch 73/100, Training Accuracy: 0.9990\n",
            "Epoch 74/100, Training Accuracy: 0.9990\n",
            "Epoch 75/100, Training Accuracy: 0.9991\n",
            "Epoch 76/100, Training Accuracy: 0.9988\n",
            "Epoch 77/100, Training Accuracy: 0.9991\n",
            "Epoch 78/100, Training Accuracy: 0.9991\n",
            "Epoch 79/100, Training Accuracy: 0.9991\n",
            "Epoch 80/100, Training Accuracy: 0.9991\n",
            "Epoch 81/100, Training Accuracy: 0.9992\n",
            "Epoch 82/100, Training Accuracy: 0.9991\n",
            "Epoch 83/100, Training Accuracy: 0.9991\n",
            "Epoch 84/100, Training Accuracy: 0.9991\n",
            "Epoch 85/100, Training Accuracy: 0.9988\n",
            "Epoch 86/100, Training Accuracy: 0.9889\n",
            "Epoch 87/100, Training Accuracy: 0.9838\n",
            "Epoch 88/100, Training Accuracy: 0.9833\n",
            "Epoch 89/100, Training Accuracy: 0.9866\n",
            "Epoch 90/100, Training Accuracy: 0.9862\n",
            "Epoch 91/100, Training Accuracy: 0.9908\n",
            "Epoch 92/100, Training Accuracy: 0.9942\n",
            "Epoch 93/100, Training Accuracy: 0.9937\n",
            "Epoch 94/100, Training Accuracy: 0.9961\n",
            "Epoch 95/100, Training Accuracy: 0.9976\n",
            "Epoch 96/100, Training Accuracy: 0.9970\n",
            "Epoch 97/100, Training Accuracy: 0.9983\n",
            "Epoch 98/100, Training Accuracy: 0.9987\n",
            "Epoch 99/100, Training Accuracy: 0.9989\n",
            "Epoch 100/100, Training Accuracy: 0.9990\n"
          ]
        }
      ],
      "source": [
        "# Initialize weights and biases\n",
        "np.random.seed(42)\n",
        "W1 = np.random.randn(input_size, hidden_size)\n",
        "b1 = np.zeros(hidden_size)\n",
        "W2 = np.random.randn(hidden_size, num_classes)\n",
        "b2 = np.zeros(num_classes)\n",
        "training_accuracy=[]\n",
        "\n",
        "# Training loop\n",
        "for epoch in range(num_epochs):\n",
        "    # Shuffle training data\n",
        "    indices = np.arange(len(x_train))\n",
        "    np.random.shuffle(indices)\n",
        "    x_train_shuffled = x_train_flat[indices]\n",
        "    y_train_shuffled = y_train_onehot[indices]\n",
        "\n",
        "    # Mini-batch training\n",
        "    for i in range(0, len(x_train), batch_size):\n",
        "        # Forward pass\n",
        "        x_batch = x_train_shuffled[i:i+batch_size]\n",
        "        y_batch = y_train_shuffled[i:i+batch_size]\n",
        "\n",
        "        z1 = np.dot(x_batch, W1) + b1\n",
        "        a1 = sigmoid(z1)\n",
        "        z2 = np.dot(a1, W2) + b2\n",
        "        a2 = softmax(z2)\n",
        "\n",
        "        # Backpropagation\n",
        "        grad_z2 = a2 - y_batch\n",
        "        grad_W2 = np.dot(a1.T, grad_z2)\n",
        "        grad_b2 = np.sum(grad_z2, axis=0)\n",
        "        grad_a1 = np.dot(grad_z2, W2.T)\n",
        "        grad_z1 = grad_a1 * (a1 * (1 - a1))\n",
        "        grad_W1 = np.dot(x_batch.T, grad_z1)\n",
        "        grad_b1 = np.sum(grad_z1, axis=0)\n",
        "\n",
        "        # Update weights and biases\n",
        "        W1 -= learning_rate * grad_W1\n",
        "        b1 -= learning_rate * grad_b1\n",
        "        W2 -= learning_rate * grad_W2\n",
        "        b2 -= learning_rate * grad_b2\n",
        "\n",
        "    # Compute training accuracy\n",
        "    z1 = np.dot(x_train_flat, W1) + b1\n",
        "    a1 = sigmoid(z1)\n",
        "    z2 = np.dot(a1, W2) + b2\n",
        "    a2 = softmax(z2)\n",
        "    predicted_labels = np.argmax(a2, axis=1)\n",
        "    accuracy = np.mean(predicted_labels == y_train)\n",
        "    training_accuracy.append(accuracy)\n",
        "    print(f\"Epoch {epoch+1}/{num_epochs}, Training Accuracy: {accuracy:.4f}\")"
      ]
    },
    {
      "cell_type": "code",
      "source": [
        "# Plot convergence graph\n",
        "plt.plot(range(1, num_epochs + 1), training_accuracy, label='Training Accuracy')\n",
        "plt.title('Convergence Graph')\n",
        "plt.xlabel('Epochs')\n",
        "plt.ylabel('Accuracy')\n",
        "plt.legend()\n",
        "plt.grid(True)\n",
        "plt.show()"
      ],
      "metadata": {
        "colab": {
          "base_uri": "https://localhost:8080/",
          "height": 472
        },
        "id": "MDcLZXh5mbEr",
        "outputId": "33bfca6a-64bc-436f-b0bf-282e808c4d23"
      },
      "execution_count": 31,
      "outputs": [
        {
          "output_type": "display_data",
          "data": {
            "text/plain": [
              "<Figure size 640x480 with 1 Axes>"
            ],
            "image/png": "[encoded data removed]"
          },
          "metadata": {}
        }
      ]
    },
    {
      "cell_type": "code",
      "source": [
        "# Compute test accuracy\n",
        "z1 = np.dot(x_test_flat, W1) + b1\n",
        "a1 = sigmoid(z1)\n",
        "z2 = np.dot(a1, W2) + b2\n",
        "a2 = softmax(z2)\n",
        "predicted_labels = np.argmax(a2, axis=1)\n",
        "accuracy = np.mean(predicted_labels == y_test)\n",
        "print(f\"Test Accuracy: {accuracy:.4f}\")"
      ],
      "metadata": {
        "colab": {
          "base_uri": "https://localhost:8080/"
        },
        "id": "nPGnLSuEmZ5o",
        "outputId": "ad87d3de-8d41-46be-c759-c53011e3c740"
      },
      "execution_count": 33,
      "outputs": [
        {
          "output_type": "stream",
          "name": "stdout",
          "text": [
            "Test Accuracy: 0.1009\n"
          ]
        }
      ]
    }
  ]
}