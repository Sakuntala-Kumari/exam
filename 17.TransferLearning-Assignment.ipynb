{
 "cells": [
  {
   "cell_type": "markdown",
   "metadata": {},
   "source": [
    "5.\tAddress the challenges of transfer learning when dealing with small datasets.\n",
    "a.\tChoose a small dataset and demonstrate the effectiveness of transfer learning compared to training a CNN from scratch.\n",
    "b.\tExperiment with data augmentation techniques and analyze their impact on model generalization."
   ]
  },
  {
   "cell_type": "code",
   "execution_count": 1,
   "metadata": {},
   "outputs": [
    {
     "name": "stderr",
     "output_type": "stream",
     "text": [
      "C:\\Users\\Sakuntala\\AppData\\Roaming\\Python\\Python312\\site-packages\\keras\\src\\layers\\convolutional\\base_conv.py:99: UserWarning: Do not pass an `input_shape`/`input_dim` argument to a layer. When using Sequential models, prefer using an `Input(shape)` object as the first layer in the model instead.\n",
      "  super().__init__(\n"
     ]
    },
    {
     "name": "stdout",
     "output_type": "stream",
     "text": [
      "Epoch 1/5\n",
      "\u001b[1m1563/1563\u001b[0m \u001b[32m━━━━━━━━━━━━━━━━━━━━\u001b[0m\u001b[37m\u001b[0m \u001b[1m28s\u001b[0m 17ms/step - accuracy: 0.3616 - loss: 1.7259 - val_accuracy: 0.5894 - val_loss: 1.1561\n",
      "Epoch 2/5\n",
      "\u001b[1m1563/1563\u001b[0m \u001b[32m━━━━━━━━━━━━━━━━━━━━\u001b[0m\u001b[37m\u001b[0m \u001b[1m32s\u001b[0m 21ms/step - accuracy: 0.6373 - loss: 1.0195 - val_accuracy: 0.6863 - val_loss: 0.8839\n",
      "Epoch 3/5\n",
      "\u001b[1m1563/1563\u001b[0m \u001b[32m━━━━━━━━━━━━━━━━━━━━\u001b[0m\u001b[37m\u001b[0m \u001b[1m33s\u001b[0m 21ms/step - accuracy: 0.7273 - loss: 0.7755 - val_accuracy: 0.7261 - val_loss: 0.8015\n",
      "Epoch 4/5\n",
      "\u001b[1m1563/1563\u001b[0m \u001b[32m━━━━━━━━━━━━━━━━━━━━\u001b[0m\u001b[37m\u001b[0m \u001b[1m37s\u001b[0m 23ms/step - accuracy: 0.7779 - loss: 0.6372 - val_accuracy: 0.7333 - val_loss: 0.7943\n",
      "Epoch 5/5\n",
      "\u001b[1m1563/1563\u001b[0m \u001b[32m━━━━━━━━━━━━━━━━━━━━\u001b[0m\u001b[37m\u001b[0m \u001b[1m37s\u001b[0m 24ms/step - accuracy: 0.8179 - loss: 0.5233 - val_accuracy: 0.7314 - val_loss: 0.7833\n",
      "\u001b[1m313/313\u001b[0m \u001b[32m━━━━━━━━━━━━━━━━━━━━\u001b[0m\u001b[37m\u001b[0m \u001b[1m3s\u001b[0m 9ms/step - accuracy: 0.7387 - loss: 0.7723\n",
      "CNN Loss: 0.7832694053649902\n",
      "CNN Accuracy: 0.7314000129699707\n"
     ]
    }
   ],
   "source": [
    "import numpy as np\n",
    "import tensorflow as tf\n",
    "from tensorflow.keras.applications import VGG16\n",
    "from tensorflow.keras.models import Model, Sequential\n",
    "from tensorflow.keras.datasets import cifar10\n",
    "from tensorflow.keras.utils import to_categorical\n",
    "from tensorflow.keras.layers import Flatten, Input, Dense, Conv2D, MaxPooling2D\n",
    "\n",
    "(x_train, y_train), (x_test, y_test) = cifar10.load_data()\n",
    "x_train = x_train.astype('float32')/255.0\n",
    "x_test = x_test.astype('float32')/255.0\n",
    "y_train = to_categorical(y_train, num_classes=10)\n",
    "y_test = to_categorical(y_test, num_classes=10)\n",
    "\n",
    "def CNN():\n",
    "    Model = Sequential([\n",
    "        Conv2D(32, (3,3), activation='relu', padding='same', input_shape=(32,32,3)),\n",
    "        MaxPooling2D((2,2)),\n",
    "        Conv2D(64, (3,3), padding='same', activation='relu'),\n",
    "        MaxPooling2D((2,2)),\n",
    "        Conv2D(128, (3,3), padding='same', activation='relu'),\n",
    "        MaxPooling2D((2,2)),\n",
    "        Conv2D(256, (3,3), padding='same', activation='relu'),\n",
    "        MaxPooling2D((2,2)),\n",
    "        Flatten(),\n",
    "        Dense(64, activation='relu'),\n",
    "        Dense(10, activation='softmax')\n",
    "    ])\n",
    "\n",
    "    Model.compile(optimizer='adam', loss = 'categorical_crossentropy', metrics = ['accuracy'])\n",
    "    return Model\n",
    "\n",
    "model = CNN()\n",
    "model.fit(x_train, y_train, epochs = 5, validation_data = (x_test, y_test))\n",
    "CNN_loss, CNN_accuracy = model.evaluate(x_test, y_test)\n",
    "print(f\"CNN Loss: {CNN_loss}\")\n",
    "print(f\"CNN Accuracy: {CNN_accuracy}\")"
   ]
  },
  {
   "cell_type": "code",
   "execution_count": 4,
   "metadata": {},
   "outputs": [
    {
     "name": "stdout",
     "output_type": "stream",
     "text": [
      "Epoch 1/5\n",
      "\u001b[1m1563/1563\u001b[0m \u001b[32m━━━━━━━━━━━━━━━━━━━━\u001b[0m\u001b[37m\u001b[0m \u001b[1m239s\u001b[0m 152ms/step - accuracy: 0.4927 - loss: 1.4506 - val_accuracy: 0.5655 - val_loss: 1.2336\n",
      "Epoch 2/5\n",
      "\u001b[1m1563/1563\u001b[0m \u001b[32m━━━━━━━━━━━━━━━━━━━━\u001b[0m\u001b[37m\u001b[0m \u001b[1m255s\u001b[0m 163ms/step - accuracy: 0.5979 - loss: 1.1389 - val_accuracy: 0.5945 - val_loss: 1.1609\n",
      "Epoch 3/5\n",
      "\u001b[1m1563/1563\u001b[0m \u001b[32m━━━━━━━━━━━━━━━━━━━━\u001b[0m\u001b[37m\u001b[0m \u001b[1m262s\u001b[0m 167ms/step - accuracy: 0.6252 - loss: 1.0645 - val_accuracy: 0.6026 - val_loss: 1.1321\n",
      "Epoch 4/5\n",
      "\u001b[1m1563/1563\u001b[0m \u001b[32m━━━━━━━━━━━━━━━━━━━━\u001b[0m\u001b[37m\u001b[0m \u001b[1m309s\u001b[0m 197ms/step - accuracy: 0.6492 - loss: 0.9973 - val_accuracy: 0.6062 - val_loss: 1.1307\n",
      "Epoch 5/5\n",
      "\u001b[1m1563/1563\u001b[0m \u001b[32m━━━━━━━━━━━━━━━━━━━━\u001b[0m\u001b[37m\u001b[0m \u001b[1m325s\u001b[0m 208ms/step - accuracy: 0.6687 - loss: 0.9377 - val_accuracy: 0.6148 - val_loss: 1.1083\n",
      "\u001b[1m313/313\u001b[0m \u001b[32m━━━━━━━━━━━━━━━━━━━━\u001b[0m\u001b[37m\u001b[0m \u001b[1m56s\u001b[0m 179ms/step - accuracy: 0.6173 - loss: 1.1098\n",
      "Transfer Learning Loss: 1.1083109378814697\n",
      "Transfer Learning Accuracy: 0.614799976348877\n"
     ]
    }
   ],
   "source": [
    "from tensorflow.keras.models import Model\n",
    "\n",
    "def TransferLearning():\n",
    "    base_model = VGG16(weights='imagenet', include_top=False, input_shape=(32,32,3))\n",
    "\n",
    "    for layers in base_model.layers:\n",
    "        layers.trainable = False\n",
    "\n",
    "    layer = base_model.output\n",
    "    layer = Flatten()(layer)\n",
    "    layer = Dense(1024, activation='relu')(layer)\n",
    "    layer = Dense(10, activation='softmax')(layer)\n",
    "\n",
    "    model = Model(inputs=base_model.input, outputs = layer)\n",
    "    model.compile(optimizer='adam', loss='categorical_crossentropy', metrics=['accuracy'])\n",
    "    \n",
    "    return model\n",
    "\n",
    "model = TransferLearning()\n",
    "model.fit(x_train, y_train, epochs = 5, validation_data = (x_test, y_test))\n",
    "Transfer_loss, Transfer_accuracy = model.evaluate(x_test, y_test)\n",
    "print(f\"Transfer Learning Loss: {Transfer_loss}\")\n",
    "print(f\"Transfer Learning Accuracy: {Transfer_accuracy}\")"
   ]
  },
  {
   "cell_type": "code",
   "execution_count": 5,
   "metadata": {},
   "outputs": [
    {
     "name": "stderr",
     "output_type": "stream",
     "text": [
      "C:\\Users\\Sakuntala\\AppData\\Roaming\\Python\\Python312\\site-packages\\keras\\src\\layers\\convolutional\\base_conv.py:99: UserWarning: Do not pass an `input_shape`/`input_dim` argument to a layer. When using Sequential models, prefer using an `Input(shape)` object as the first layer in the model instead.\n",
      "  super().__init__(\n"
     ]
    },
    {
     "name": "stdout",
     "output_type": "stream",
     "text": [
      "Epoch 1/5\n",
      "\u001b[1m   5/3125\u001b[0m \u001b[37m━━━━━━━━━━━━━━━━━━━━\u001b[0m \u001b[1m1:23\u001b[0m 27ms/step - accuracy: 0.1079 - loss: 2.3222"
     ]
    },
    {
     "name": "stderr",
     "output_type": "stream",
     "text": [
      "C:\\Users\\Sakuntala\\AppData\\Roaming\\Python\\Python312\\site-packages\\keras\\src\\trainers\\data_adapters\\py_dataset_adapter.py:122: UserWarning: Your `PyDataset` class should call `super().__init__(**kwargs)` in its constructor. `**kwargs` can include `workers`, `use_multiprocessing`, `max_queue_size`. Do not pass these arguments to `fit()`, as they will be ignored.\n",
      "  self._warn_if_super_not_called()\n"
     ]
    },
    {
     "name": "stdout",
     "output_type": "stream",
     "text": [
      "\u001b[1m3125/3125\u001b[0m \u001b[32m━━━━━━━━━━━━━━━━━━━━\u001b[0m\u001b[37m\u001b[0m \u001b[1m75s\u001b[0m 23ms/step - accuracy: 0.2887 - loss: 1.8844 - val_accuracy: 0.5247 - val_loss: 1.3359\n",
      "Epoch 2/5\n",
      "\u001b[1m3125/3125\u001b[0m \u001b[32m━━━━━━━━━━━━━━━━━━━━\u001b[0m\u001b[37m\u001b[0m \u001b[1m79s\u001b[0m 25ms/step - accuracy: 0.5091 - loss: 1.3528 - val_accuracy: 0.5565 - val_loss: 1.2570\n",
      "Epoch 3/5\n",
      "\u001b[1m3125/3125\u001b[0m \u001b[32m━━━━━━━━━━━━━━━━━━━━\u001b[0m\u001b[37m\u001b[0m \u001b[1m69s\u001b[0m 22ms/step - accuracy: 0.5742 - loss: 1.1820 - val_accuracy: 0.6001 - val_loss: 1.1716\n",
      "Epoch 4/5\n",
      "\u001b[1m3125/3125\u001b[0m \u001b[32m━━━━━━━━━━━━━━━━━━━━\u001b[0m\u001b[37m\u001b[0m \u001b[1m73s\u001b[0m 23ms/step - accuracy: 0.6102 - loss: 1.0927 - val_accuracy: 0.6564 - val_loss: 0.9650\n",
      "Epoch 5/5\n",
      "\u001b[1m3125/3125\u001b[0m \u001b[32m━━━━━━━━━━━━━━━━━━━━\u001b[0m\u001b[37m\u001b[0m \u001b[1m73s\u001b[0m 23ms/step - accuracy: 0.6356 - loss: 1.0268 - val_accuracy: 0.6671 - val_loss: 0.9632\n",
      "Epoch 1/5\n",
      "\u001b[1m3125/3125\u001b[0m \u001b[32m━━━━━━━━━━━━━━━━━━━━\u001b[0m\u001b[37m\u001b[0m \u001b[1m368s\u001b[0m 117ms/step - accuracy: 0.4260 - loss: 1.6063 - val_accuracy: 0.5368 - val_loss: 1.3142\n",
      "Epoch 2/5\n",
      "\u001b[1m3125/3125\u001b[0m \u001b[32m━━━━━━━━━━━━━━━━━━━━\u001b[0m\u001b[37m\u001b[0m \u001b[1m366s\u001b[0m 117ms/step - accuracy: 0.5169 - loss: 1.3655 - val_accuracy: 0.5555 - val_loss: 1.2448\n",
      "Epoch 3/5\n",
      "\u001b[1m3125/3125\u001b[0m \u001b[32m━━━━━━━━━━━━━━━━━━━━\u001b[0m\u001b[37m\u001b[0m \u001b[1m396s\u001b[0m 127ms/step - accuracy: 0.5331 - loss: 1.3157 - val_accuracy: 0.5658 - val_loss: 1.2309\n",
      "Epoch 4/5\n",
      "\u001b[1m3125/3125\u001b[0m \u001b[32m━━━━━━━━━━━━━━━━━━━━\u001b[0m\u001b[37m\u001b[0m \u001b[1m298s\u001b[0m 95ms/step - accuracy: 0.5426 - loss: 1.2896 - val_accuracy: 0.5856 - val_loss: 1.1865\n",
      "Epoch 5/5\n",
      "\u001b[1m3125/3125\u001b[0m \u001b[32m━━━━━━━━━━━━━━━━━━━━\u001b[0m\u001b[37m\u001b[0m \u001b[1m348s\u001b[0m 111ms/step - accuracy: 0.5556 - loss: 1.2575 - val_accuracy: 0.5754 - val_loss: 1.2120\n",
      "\u001b[1m313/313\u001b[0m \u001b[32m━━━━━━━━━━━━━━━━━━━━\u001b[0m\u001b[37m\u001b[0m \u001b[1m3s\u001b[0m 9ms/step - accuracy: 0.6676 - loss: 0.9552\n",
      "\u001b[1m313/313\u001b[0m \u001b[32m━━━━━━━━━━━━━━━━━━━━\u001b[0m\u001b[37m\u001b[0m \u001b[1m40s\u001b[0m 127ms/step - accuracy: 0.5754 - loss: 1.2182\n",
      "CNN Loss Without Augmentation :- 0.7832694053649902\n",
      "CNN Accuracy Without Augmentation :- 0.7314000129699707\n",
      "CNN Loss With Augmentation :- 0.9632297158241272\n",
      "CNN Accuracy With Augmentation :- 0.6671000123023987\n",
      "Transfer Learning Loss Without Augmentation :- 1.1083109378814697\n",
      "Transfer Learning Accuracy Without Augmentation :- 0.614799976348877\n",
      "Transfer Learning Loss With Augmentation :- 1.2120498418807983\n",
      "Transfer Learning Accuracy With Augmentation :- 0.5753999948501587\n"
     ]
    }
   ],
   "source": [
    "from tensorflow.keras.preprocessing.image import ImageDataGenerator\n",
    "\n",
    "dataGeneration = ImageDataGenerator(\n",
    "    rotation_range = 16,\n",
    "    width_shift_range = 0.2,\n",
    "    height_shift_range = 0.2,\n",
    "    horizontal_flip = True,\n",
    "    fill_mode = 'nearest'\n",
    ")\n",
    "\n",
    "CNN_model = CNN()\n",
    "Transfer_model = TransferLearning()\n",
    "CNN_model.fit(dataGeneration.flow( x_train, y_train, batch_size = 16),\n",
    "              epochs = 5, validation_data=(x_test, y_test))\n",
    "Transfer_model.fit(dataGeneration.flow( x_train, y_train, batch_size = 16),\n",
    "              epochs = 5, validation_data=(x_test, y_test))\n",
    "\n",
    "CNN_loss_aug, CNN_accuracy_aug = CNN_model.evaluate(x_test, y_test)\n",
    "Transfer_loss_aug, Transfer_accuracy_aug = Transfer_model.evaluate(x_test, y_test)\n",
    "\n",
    "print(f\"CNN Loss Without Augmentation :- {CNN_loss}\")\n",
    "print(f\"CNN Accuracy Without Augmentation :- {CNN_accuracy}\")\n",
    "print(f\"CNN Loss With Augmentation :- {CNN_loss_aug}\")\n",
    "print(f\"CNN Accuracy With Augmentation :- {CNN_accuracy_aug}\")\n",
    "print(f\"Transfer Learning Loss Without Augmentation :- {Transfer_loss}\")\n",
    "print(f\"Transfer Learning Accuracy Without Augmentation :- {Transfer_accuracy}\")\n",
    "print(f\"Transfer Learning Loss With Augmentation :- {Transfer_loss_aug}\")\n",
    "print(f\"Transfer Learning Accuracy With Augmentation :- {Transfer_accuracy_aug}\")"
   ]
  }
 ],
 "metadata": {
  "kernelspec": {
   "display_name": "Python 3",
   "language": "python",
   "name": "python3"
  },
  "language_info": {
   "codemirror_mode": {
    "name": "ipython",
    "version": 3
   },
   "file_extension": ".py",
   "mimetype": "text/x-python",
   "name": "python",
   "nbconvert_exporter": "python",
   "pygments_lexer": "ipython3",
   "version": "3.12.1"
  }
 },
 "nbformat": 4,
 "nbformat_minor": 2
}
