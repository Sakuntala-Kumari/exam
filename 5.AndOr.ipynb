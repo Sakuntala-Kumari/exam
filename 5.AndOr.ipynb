{
 "cells": [
  {
   "cell_type": "code",
   "execution_count": 1,
   "metadata": {},
   "outputs": [
    {
     "name": "stdout",
     "output_type": "stream",
     "text": [
      "AND Gate Predictions:\n",
      "[0 0] -> 0\n",
      "[0 1] -> 0\n",
      "[1 0] -> 0\n",
      "[1 1] -> 1\n",
      "\n",
      "OR Gate Predictions:\n",
      "[0 0] -> 0\n",
      "[0 1] -> 1\n",
      "[1 0] -> 1\n",
      "[1 1] -> 1\n"
     ]
    }
   ],
   "source": [
    "import numpy as np\n",
    "\n",
    "class Perceptron:\n",
    "    def __init__(self, input_size):\n",
    "        self.weights = np.random.rand(input_size)\n",
    "        self.bias = np.random.rand()\n",
    "\n",
    "    def activation(self, x, threshold):\n",
    "        return 1 if x >= threshold else 0\n",
    "    \n",
    "    def predict(self, inputs, threshold):\n",
    "        sum = np.dot(inputs, self.weights) + self.bias\n",
    "        return self.activation(sum, threshold)\n",
    "\n",
    "and_gate_inputs = np.array([[0, 0], [0, 1], [1, 0], [1, 1]])\n",
    "and_gate_outputs = np.array([0, 0, 0, 1])\n",
    "and_perceptron = Perceptron(input_size=2)\n",
    "\n",
    "for i in range(1000):\n",
    "    for inputs, output in zip(and_gate_inputs, and_gate_outputs):\n",
    "        prediction = and_perceptron.predict(inputs, 2)\n",
    "        error = output - prediction\n",
    "        and_perceptron.weights += 0.1 * error * inputs\n",
    "        and_perceptron.bias += 0.1 * error\n",
    "\n",
    "print(\"AND Gate Predictions:\")\n",
    "for inputs in and_gate_inputs:\n",
    "    prediction = and_perceptron.predict(inputs,2)\n",
    "    print(f\"{inputs} -> {prediction}\")\n",
    "\n",
    "or_gate_inputs = np.array([[0, 0], [0, 1], [1, 0], [1, 1]])\n",
    "or_gate_outputs = np.array([0, 1, 1, 1])\n",
    "\n",
    "or_perceptron = Perceptron(input_size=2)\n",
    "\n",
    "for i in range(1000):\n",
    "    for inputs, output in zip(or_gate_inputs, or_gate_outputs):\n",
    "        prediction = or_perceptron.predict(inputs,1)\n",
    "        error = output - prediction\n",
    "        or_perceptron.weights += 0.1 * error * inputs\n",
    "        or_perceptron.bias += 0.1 * error\n",
    "\n",
    "# Test the OR gate perceptron\n",
    "print(\"\\nOR Gate Predictions:\")\n",
    "for inputs in or_gate_inputs:\n",
    "    prediction = or_perceptron.predict(inputs,1)\n",
    "    print(f\"{inputs} -> {prediction}\")"
   ]
  }
 ],
 "metadata": {
  "kernelspec": {
   "display_name": "myEnv",
   "language": "python",
   "name": "python3"
  },
  "language_info": {
   "codemirror_mode": {
    "name": "ipython",
    "version": 3
   },
   "file_extension": ".py",
   "mimetype": "text/x-python",
   "name": "python",
   "nbconvert_exporter": "python",
   "pygments_lexer": "ipython3",
   "version": "3.12.1"
  }
 },
 "nbformat": 4,
 "nbformat_minor": 2
}
