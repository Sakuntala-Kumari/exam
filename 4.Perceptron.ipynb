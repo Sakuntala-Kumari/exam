{
 "cells": [
  {
   "cell_type": "code",
   "execution_count": 19,
   "metadata": {},
   "outputs": [
    {
     "name": "stdout",
     "output_type": "stream",
     "text": [
      "   Age   Salary  Family Members  Buy Flat\n",
      "0   35  1830566               6         0\n",
      "1   35  3664771               8         0\n",
      "2   43  3438531               8         1\n",
      "3   43  2930010               2         0\n",
      "4   50  4782653               9         1\n"
     ]
    }
   ],
   "source": [
    "import numpy as np\n",
    "import pandas as pd\n",
    "\n",
    "np.random.seed(30)\n",
    "num_samples = 500\n",
    "\n",
    "age = np.random.randint(30, 61, num_samples)\n",
    "salary = np.random.randint(50000, 5000001, num_samples)\n",
    "family_members = np.random.randint(2, 11, num_samples)\n",
    "buy_flat = np.random.randint(2, size=num_samples)\n",
    "random_dataset = np.column_stack((age, salary, family_members, buy_flat))\n",
    "\n",
    "columns = ['Age', 'Salary', 'Family Members', 'Buy Flat']\n",
    "df = pd.DataFrame(data=random_dataset, columns=columns)\n",
    "print(df.head())"
   ]
  },
  {
   "cell_type": "code",
   "execution_count": 20,
   "metadata": {},
   "outputs": [],
   "source": [
    "X = df[['Age', 'Salary', 'Family Members']]\n",
    "Y = df['Buy Flat']\n",
    "\n",
    "age_threshold = 40\n",
    "salary_threshold = 200000\n",
    "family_members_threshold = 5\n",
    "df['Age_binary'] = (df['Age'] > age_threshold).astype(int)\n",
    "df['Salary_binary'] = (df['Salary'] > salary_threshold).astype(int)\n",
    "df['Family_Members_binary'] = (df['Family Members'] > family_members_threshold).astype(int)\n",
    "\n",
    "X=df[['Age_binary', 'Salary_binary', 'Family_Members_binary']]\n",
    "Y=df[['Buy Flat']]"
   ]
  },
  {
   "cell_type": "code",
   "execution_count": 21,
   "metadata": {},
   "outputs": [],
   "source": [
    "from sklearn.model_selection import train_test_split\n",
    "X_train, X_test, Y_train, Y_test = train_test_split(X, Y, test_size=0.3, stratify = Y)\n",
    "X_test = X_test.values\n",
    "X_train = X_train.values\n",
    "Y_test = Y_test.values\n",
    "Y_train = Y_train.values"
   ]
  },
  {
   "cell_type": "code",
   "execution_count": 22,
   "metadata": {},
   "outputs": [
    {
     "name": "stdout",
     "output_type": "stream",
     "text": [
      "[0 0 0 0 1 0 0 1 1 0 1 0 0 0 0 0 0 1 0 0 1 0 1 0 1 1 0 0 0 1 1 0 0 0 0 0 0\n",
      " 0 0 0 1 0 1 0 0 0 0 0 0 0 1 0 0 0 1 1 0 1 0 1 0 0 0 0 0 0 0 1 0 1 0 0 0 0\n",
      " 0 0 0 0 0 0 0 0 0 0 1 0 0 0 1 0 0 1 0 0 0 1 1 0 0 0 0 0 0 0 1 0 1 0 1 1 0\n",
      " 1 0 0 1 1 0 0 0 0 1 1 1 0 0 0 1 0 0 0 1 1 0 0 0 1 0 0 1 0 0 0 0 0 0 0 0 1\n",
      " 0 0]\n",
      "Test Accuracy =  0.5\n"
     ]
    }
   ],
   "source": [
    "from sklearn.metrics import accuracy_score\n",
    "\n",
    "class Perceptron:\n",
    "    def __init__(self, learning_rate=0.01, epochs=1000):\n",
    "        self.lr = learning_rate\n",
    "        self.epochs = epochs\n",
    "        self.weights = None\n",
    "        self.bias = None\n",
    "    \n",
    "    def pre_activation(self, x, w, b):\n",
    "        return np.dot(x, w) + b\n",
    "    \n",
    "    def activation(self, x):\n",
    "        return np.where(x >= 3, 1, 0)\n",
    "    \n",
    "    def fit(self, X, y):\n",
    "        num_samples, num_features = X.shape\n",
    "        self.weights = np.zeros(num_features)\n",
    "        self. bias = 0\n",
    "\n",
    "        converged = False\n",
    "        epoch = 0\n",
    "        error = 0\n",
    "\n",
    "        while not converged:\n",
    "            for index, x_i in enumerate(X):\n",
    "                y_predicted = self.activation(self.pre_activation(x_i, self.weights, self.bias))\n",
    "                error = y[index] - y_predicted\n",
    "                self.weights += self.lr * error * x_i\n",
    "                self.bias += self.lr*error\n",
    "\n",
    "            epoch += 1\n",
    "            converged = error == 0 or epoch == self.epochs\n",
    "                \n",
    "    def predict(self, X):\n",
    "        y_predicted = self.activation(self.pre_activation(X, self.weights, self.bias))\n",
    "        return y_predicted\n",
    "\n",
    "Model = Perceptron()\n",
    "training_predictions = Model.fit(X_train, Y_train)\n",
    "\n",
    "predictions = Model.predict(X_test)\n",
    "print(predictions)\n",
    "print(\"Test Accuracy = \", accuracy_score(predictions, Y_test))"
   ]
  }
 ],
 "metadata": {
  "kernelspec": {
   "display_name": "myEnv",
   "language": "python",
   "name": "python3"
  },
  "language_info": {
   "codemirror_mode": {
    "name": "ipython",
    "version": 3
   },
   "file_extension": ".py",
   "mimetype": "text/x-python",
   "name": "python",
   "nbconvert_exporter": "python",
   "pygments_lexer": "ipython3",
   "version": "3.12.1"
  }
 },
 "nbformat": 4,
 "nbformat_minor": 2
}
