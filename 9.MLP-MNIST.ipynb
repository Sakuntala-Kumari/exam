{
  "cells": [
    {
      "cell_type": "code",
      "execution_count": 1,
      "metadata": {
        "id": "14OILWf8MFag"
      },
      "outputs": [],
      "source": [
        "import numpy as np\n",
        "import tensorflow as tf\n",
        "from tensorflow.keras.datasets import mnist\n",
        "from sklearn.model_selection import train_test_split\n",
        "from sklearn.metrics import accuracy_score"
      ]
    },
    {
      "cell_type": "code",
      "execution_count": 2,
      "metadata": {
        "id": "5252DtS0MSkD"
      },
      "outputs": [],
      "source": [
        "\n",
        "(x_train, y_train), (x_test, y_test) = mnist.load_data()"
      ]
    },
    {
      "cell_type": "code",
      "execution_count": 3,
      "metadata": {
        "id": "hM_Ph0sKM-po"
      },
      "outputs": [],
      "source": [
        "\n",
        "x_train = x_train.reshape(x_train.shape[0], -1) / 255.0\n",
        "x_test = x_test.reshape(x_test.shape[0], -1) / 255.0"
      ]
    },
    {
      "cell_type": "code",
      "execution_count": 4,
      "metadata": {
        "id": "j58KpNd0NUdi"
      },
      "outputs": [],
      "source": [
        "\n",
        "y_train = tf.keras.utils.to_categorical(y_train, num_classes=10)\n",
        "y_test = tf.keras.utils.to_categorical(y_test, num_classes=10)"
      ]
    },
    {
      "cell_type": "code",
      "execution_count": 5,
      "metadata": {
        "id": "WFfmzMWcNYP2"
      },
      "outputs": [],
      "source": [
        "\n",
        "x_train, x_val, y_train, y_val = train_test_split(x_train, y_train, test_size=0.1, random_state=42)"
      ]
    },
    {
      "cell_type": "code",
      "execution_count": 6,
      "metadata": {
        "id": "yU8Dt3T2Njjo"
      },
      "outputs": [],
      "source": [
        "\n",
        "class MLP:\n",
        "    def __init__(self, input_size, hidden_sizes, output_size):\n",
        "        self.input_size = input_size\n",
        "        self.hidden_sizes = hidden_sizes\n",
        "        self.output_size = output_size\n",
        "\n",
        "        self.weights = []\n",
        "        self.biases = []\n",
        "\n",
        "\n",
        "        layer_sizes = [input_size] + hidden_sizes + [output_size]\n",
        "        for i in range(len(layer_sizes) - 1):\n",
        "            self.weights.append(np.random.randn(layer_sizes[i], layer_sizes[i+1]))\n",
        "            self.biases.append(np.zeros(layer_sizes[i+1]))\n",
        "\n",
        "    def forward(self, x):\n",
        "        activations = [x]\n",
        "        for i in range(len(self.weights)):\n",
        "            x = np.dot(x, self.weights[i]) + self.biases[i]\n",
        "            x = self.sigmoid(x)\n",
        "            activations.append(x)\n",
        "        return activations\n",
        "\n",
        "    def backward(self, x, y, activations, learning_rate):\n",
        "        deltas = [activations[-1] - y]\n",
        "\n",
        "\n",
        "        for i in range(len(self.weights) - 1, 0, -1):\n",
        "            delta = np.dot(deltas[0], self.weights[i].T) * self.sigmoid_derivative(activations[i])\n",
        "            deltas.insert(0, delta)\n",
        "\n",
        "\n",
        "        for i in range(len(self.weights)):\n",
        "            self.weights[i] -= learning_rate * np.dot(activations[i].T, deltas[i])\n",
        "            self.biases[i] -= learning_rate * np.sum(deltas[i], axis=0)\n",
        "\n",
        "    def sigmoid(self, x):\n",
        "        return 1 / (1 + np.exp(-x))\n",
        "\n",
        "    def sigmoid_derivative(self, x):\n",
        "        return x * (1 - x)\n",
        "\n",
        "    def train(self, x, y, epochs, learning_rate, batch_size):\n",
        "        for epoch in range(epochs):\n",
        "            for i in range(0, len(x), batch_size):\n",
        "                x_batch = x[i:i+batch_size]\n",
        "                y_batch = y[i:i+batch_size]\n",
        "\n",
        "                activations = self.forward(x_batch)\n",
        "                self.backward(x_batch, y_batch, activations, learning_rate)\n",
        "\n",
        "    def predict(self, x):\n",
        "        activations = self.forward(x)\n",
        "        return np.argmax(activations[-1], axis=1)"
      ]
    },
    {
      "cell_type": "code",
      "execution_count": 7,
      "metadata": {
        "id": "OL5YWBqJOCmt"
      },
      "outputs": [],
      "source": [
        "input_size = 784  \n",
        "output_size = 10  \n",
        "hidden_sizes = [128, 64] \n",
        "epochs = 10\n",
        "learning_rate = 0.01\n",
        "batch_size = 64"
      ]
    },
    {
      "cell_type": "code",
      "execution_count": 8,
      "metadata": {
        "id": "qAI8p3EyOG8O"
      },
      "outputs": [],
      "source": [
        "mlp = MLP(input_size, hidden_sizes, output_size)\n",
        "mlp.train(x_train, y_train, epochs, learning_rate, batch_size)"
      ]
    },
    {
      "cell_type": "code",
      "execution_count": 9,
      "metadata": {
        "id": "V4_jUEv-OKAr"
      },
      "outputs": [],
      "source": [
        "\n",
        "train_predictions = mlp.predict(x_train)\n",
        "val_predictions = mlp.predict(x_val)\n",
        "test_predictions = mlp.predict(x_test)"
      ]
    },
    {
      "cell_type": "code",
      "execution_count": 10,
      "metadata": {
        "id": "fVJSY6QYOUaY"
      },
      "outputs": [],
      "source": [
        "\n",
        "train_accuracy = accuracy_score(np.argmax(y_train, axis=1), train_predictions)\n",
        "val_accuracy = accuracy_score(np.argmax(y_val, axis=1), val_predictions)\n",
        "test_accuracy = accuracy_score(np.argmax(y_test, axis=1), test_predictions)"
      ]
    },
    {
      "cell_type": "code",
      "execution_count": 11,
      "metadata": {
        "colab": {
          "base_uri": "https://localhost:8080/"
        },
        "id": "CECNTBq0ObSP",
        "outputId": "e34fa386-8679-4193-b4f4-724c5f3c5e4d"
      },
      "outputs": [
        {
          "name": "stdout",
          "output_type": "stream",
          "text": [
            "Training Accuracy: 0.9691481481481482\n",
            "Validation Accuracy: 0.9475\n",
            "Test Accuracy: 0.9468\n"
          ]
        }
      ],
      "source": [
        "print(\"Training Accuracy:\", train_accuracy)\n",
        "print(\"Validation Accuracy:\", val_accuracy)\n",
        "print(\"Test Accuracy:\", test_accuracy)"
      ]
    }
  ],
  "metadata": {
    "colab": {
      "provenance": []
    },
    "kernelspec": {
      "display_name": "Python 3",
      "name": "python3"
    },
    "language_info": {
      "codemirror_mode": {
        "name": "ipython",
        "version": 3
      },
      "file_extension": ".py",
      "mimetype": "text/x-python",
      "name": "python",
      "nbconvert_exporter": "python",
      "pygments_lexer": "ipython3",
      "version": "3.12.1"
    }
  },
  "nbformat": 4,
  "nbformat_minor": 0
}
